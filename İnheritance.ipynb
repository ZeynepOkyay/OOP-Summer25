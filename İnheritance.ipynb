{
 "cells": [
  {
   "cell_type": "code",
   "execution_count": 5,
   "id": "6fab0259",
   "metadata": {},
   "outputs": [],
   "source": [
    "class Animal:\n",
    "    def give_sound(self, sound):\n",
    "        print(sound)"
   ]
  },
  {
   "cell_type": "code",
   "execution_count": 6,
   "id": "966042a8",
   "metadata": {},
   "outputs": [
    {
     "name": "stdout",
     "output_type": "stream",
     "text": [
      "meow\n"
     ]
    }
   ],
   "source": [
    "my_animal = Animal()\n",
    "my_animal.give_sound('meow')"
   ]
  },
  {
   "cell_type": "code",
   "execution_count": 7,
   "id": "770e5583",
   "metadata": {},
   "outputs": [],
   "source": [
    "class Cat(Animal):\n",
    "    def meow(self):\n",
    "        self.give_sound('meow')"
   ]
  },
  {
   "cell_type": "code",
   "execution_count": 8,
   "id": "a0223eb1",
   "metadata": {},
   "outputs": [
    {
     "name": "stdout",
     "output_type": "stream",
     "text": [
      "meow\n"
     ]
    }
   ],
   "source": [
    "my_kitty = Cat()\n",
    "my_kitty.meow()"
   ]
  },
  {
   "cell_type": "code",
   "execution_count": 9,
   "id": "77ff251d",
   "metadata": {},
   "outputs": [],
   "source": [
    "class Person:\n",
    "    def __init__(self, first_name, last_name):\n",
    "        self.first_name = first_name\n",
    "        self.last_name = last_name"
   ]
  },
  {
   "cell_type": "code",
   "execution_count": 10,
   "id": "9da3de2c",
   "metadata": {},
   "outputs": [
    {
     "name": "stdout",
     "output_type": "stream",
     "text": [
      "Name: Zeynep Okyay, index: 34695\n"
     ]
    }
   ],
   "source": [
    "class Student:\n",
    "    def __init__(self, first_name, last_name, index_number):\n",
    "        self.first_name = first_name\n",
    "        self.last_name = last_name\n",
    "        self.index_number = index_number\n",
    "    def display_info(self):\n",
    "        print(f\"Name: {self.first_name} {self.last_name}, index: {self.index_number}\")\n",
    "\n",
    "student1 = Student('Zeynep', 'Okyay', '34695')\n",
    "student1.display_info()\n"
   ]
  },
  {
   "cell_type": "code",
   "execution_count": 11,
   "id": "d52172b3",
   "metadata": {},
   "outputs": [
    {
     "name": "stdout",
     "output_type": "stream",
     "text": [
      "Name: Zeynep Okyay, index: 34695\n"
     ]
    }
   ],
   "source": [
    "class Student(Person):\n",
    "    def __init__(self, first_name, last_name, index_number):\n",
    "        super().__init__(first_name, last_name)\n",
    "        self.index_number = index_number\n",
    "\n",
    "    def display_info(self):\n",
    "        print(f\"Name: {self.first_name} {self.last_name}, index: {self.index_number}\")\n",
    "\n",
    "student1 = Student('Zeynep', 'Okyay', '34695')\n",
    "student1.display_info()"
   ]
  }
 ],
 "metadata": {
  "kernelspec": {
   "display_name": "Python 3",
   "language": "python",
   "name": "python3"
  },
  "language_info": {
   "codemirror_mode": {
    "name": "ipython",
    "version": 3
   },
   "file_extension": ".py",
   "mimetype": "text/x-python",
   "name": "python",
   "nbconvert_exporter": "python",
   "pygments_lexer": "ipython3",
   "version": "3.12.1"
  }
 },
 "nbformat": 4,
 "nbformat_minor": 5
}
