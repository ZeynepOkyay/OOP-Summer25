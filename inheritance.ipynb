{
 "cells": [
  {
   "cell_type": "markdown",
   "id": "f506d1e3",
   "metadata": {},
   "source": [
    "A PARENT CLASS"
   ]
  },
  {
   "cell_type": "code",
   "execution_count": 6,
   "id": "40591305",
   "metadata": {},
   "outputs": [],
   "source": [
    "class Vehicle:\n",
    "    def __init__(self, brand, model):\n",
    "        self.brand = brand\n",
    "        self.model = model"
   ]
  },
  {
   "cell_type": "markdown",
   "id": "75aa11fa",
   "metadata": {},
   "source": [
    "Car class without inheritance"
   ]
  },
  {
   "cell_type": "code",
   "execution_count": 7,
   "id": "9383a898",
   "metadata": {},
   "outputs": [
    {
     "name": "stdout",
     "output_type": "stream",
     "text": [
      "Toyota Corolla, Fuel Type: Petrol\n"
     ]
    }
   ],
   "source": [
    "class Car:\n",
    "    def __init__(self, brand, model, fuel_type):\n",
    "        self.brand = brand\n",
    "        self.model = model\n",
    "        self.fuel_type = fuel_type\n",
    "\n",
    "    def display_info(self):\n",
    "        print(f\"{self.brand} {self.model}, Fuel Type: {self.fuel_type}\")\n",
    "\n",
    "car1 = Car('Toyota', 'Corolla', 'Petrol')\n",
    "car1.display_info()"
   ]
  },
  {
   "cell_type": "markdown",
   "id": "8a865a36",
   "metadata": {},
   "source": [
    "Car class with inheritance(as child class)"
   ]
  },
  {
   "cell_type": "code",
   "execution_count": 8,
   "id": "a169ef6f",
   "metadata": {},
   "outputs": [
    {
     "name": "stdout",
     "output_type": "stream",
     "text": [
      "Toyota Corolla, Fuel Type: Petrol\n"
     ]
    }
   ],
   "source": [
    "class Car(Vehicle):\n",
    "    def __init__(self, brand, model, fuel_type):\n",
    "        super().__init__(brand, model)\n",
    "        self.fuel_type = fuel_type\n",
    "\n",
    "    def display_info(self):\n",
    "        print(f\"{self.brand} {self.model}, Fuel Type: {self.fuel_type}\")\n",
    "\n",
    "car1 = Car('Toyota', 'Corolla', 'Petrol')\n",
    "car1.display_info()"
   ]
  }
 ],
 "metadata": {
  "kernelspec": {
   "display_name": "Python 3",
   "language": "python",
   "name": "python3"
  },
  "language_info": {
   "codemirror_mode": {
    "name": "ipython",
    "version": 3
   },
   "file_extension": ".py",
   "mimetype": "text/x-python",
   "name": "python",
   "nbconvert_exporter": "python",
   "pygments_lexer": "ipython3",
   "version": "3.12.1"
  }
 },
 "nbformat": 4,
 "nbformat_minor": 5
}
