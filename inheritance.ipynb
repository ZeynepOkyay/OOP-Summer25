{
 "cells": [
  {
   "cell_type": "code",
   "execution_count": 3,
   "id": "40591305",
   "metadata": {},
   "outputs": [],
   "source": [
    "class Vehicle:\n",
    "    def __init__(self, brand, model):\n",
    "        self.brand = brand\n",
    "        self.model = model"
   ]
  },
  {
   "cell_type": "code",
   "execution_count": 4,
   "id": "9383a898",
   "metadata": {},
   "outputs": [
    {
     "name": "stdout",
     "output_type": "stream",
     "text": [
      "Toyota Corolla, Fuel Type: Petrol\n"
     ]
    }
   ],
   "source": [
    "class Car:\n",
    "    def __init__(self, brand, model, fuel_type):\n",
    "        self.brand = brand\n",
    "        self.model = model\n",
    "        self.fuel_type = fuel_type\n",
    "\n",
    "    def display_info(self):\n",
    "        print(f\"{self.brand} {self.model}, Fuel Type: {self.fuel_type}\")\n",
    "\n",
    "car1 = Car('Toyota', 'Corolla', 'Petrol')\n",
    "car1.display_info()"
   ]
  },
  {
   "cell_type": "code",
   "execution_count": 5,
   "id": "a169ef6f",
   "metadata": {},
   "outputs": [
    {
     "name": "stdout",
     "output_type": "stream",
     "text": [
      "Toyota Corolla, Fuel Type: Petrol\n"
     ]
    }
   ],
   "source": [
    "class Car(Vehicle):\n",
    "    def __init__(self, brand, model, fuel_type):\n",
    "        super().__init__(brand, model)\n",
    "        self.fuel_type = fuel_type\n",
    "\n",
    "    def display_info(self):\n",
    "        print(f\"{self.brand} {self.model}, Fuel Type: {self.fuel_type}\")\n",
    "\n",
    "car1 = Car('Toyota', 'Corolla', 'Petrol')\n",
    "car1.display_info()"
   ]
  }
 ],
 "metadata": {
  "kernelspec": {
   "display_name": "Python 3",
   "language": "python",
   "name": "python3"
  },
  "language_info": {
   "codemirror_mode": {
    "name": "ipython",
    "version": 3
   },
   "file_extension": ".py",
   "mimetype": "text/x-python",
   "name": "python",
   "nbconvert_exporter": "python",
   "pygments_lexer": "ipython3",
   "version": "3.12.1"
  }
 },
 "nbformat": 4,
 "nbformat_minor": 5
}
