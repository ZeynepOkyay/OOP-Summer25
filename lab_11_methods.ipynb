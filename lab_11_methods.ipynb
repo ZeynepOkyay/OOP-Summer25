{
 "cells": [
  {
   "cell_type": "code",
   "execution_count": 4,
   "id": "95b4fbed",
   "metadata": {},
   "outputs": [
    {
     "name": "stdout",
     "output_type": "stream",
     "text": [
      "Woof\n"
     ]
    }
   ],
   "source": [
    "class MyAnimal:\n",
    "    def make_sound(self):\n",
    "        print(\"Woof\")\n",
    "\n",
    "my_dog = MyAnimal()\n",
    "my_dog.make_sound()\n"
   ]
  },
  {
   "cell_type": "code",
   "execution_count": 5,
   "id": "f7b650af",
   "metadata": {},
   "outputs": [
    {
     "name": "stdout",
     "output_type": "stream",
     "text": [
      "Woof Timmy\n"
     ]
    }
   ],
   "source": [
    "class MyAnimal:\n",
    "    def make_sound(self, name):\n",
    "        print('Woof', name)\n",
    "\n",
    "my_dog = MyAnimal()\n",
    "my_dog.make_sound('Timmy')"
   ]
  },
  {
   "cell_type": "code",
   "execution_count": 6,
   "id": "766eda1f",
   "metadata": {},
   "outputs": [
    {
     "name": "stdout",
     "output_type": "stream",
     "text": [
      "Hello, I am a student.\n"
     ]
    }
   ],
   "source": [
    "class Student:\n",
    "    def hello(self):\n",
    "        print(\"Hello, I am a student.\")\n",
    "\n",
    "student = Student()\n",
    "student.hello()"
   ]
  },
  {
   "cell_type": "code",
   "execution_count": null,
   "id": "77720397",
   "metadata": {},
   "outputs": [
    {
     "name": "stdout",
     "output_type": "stream",
     "text": [
      "Hello, I am Zeynep Okyay my index number is 34695\n"
     ]
    }
   ],
   "source": [
    "class Student:\n",
    "    def __init__(self, name, index_number):\n",
    "        self.name = name\n",
    "        self.index_number = index_number\n",
    "\n",
    "    def hello(self):\n",
    "        print(\"Hello, I am\", self.name, \"my index number is\", self.index_number)\n",
    "\n",
    "student1 = Student(\"Zeynep Okyay\", 34695)\n",
    "student1.hello()\n"
   ]
  }
 ],
 "metadata": {
  "kernelspec": {
   "display_name": "Python 3",
   "language": "python",
   "name": "python3"
  },
  "language_info": {
   "codemirror_mode": {
    "name": "ipython",
    "version": 3
   },
   "file_extension": ".py",
   "mimetype": "text/x-python",
   "name": "python",
   "nbconvert_exporter": "python",
   "pygments_lexer": "ipython3",
   "version": "3.12.1"
  }
 },
 "nbformat": 4,
 "nbformat_minor": 5
}
