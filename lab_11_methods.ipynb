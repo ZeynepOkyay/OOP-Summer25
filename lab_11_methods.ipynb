{
 "cells": [
  {
   "cell_type": "code",
   "execution_count": 2,
   "id": "95b4fbed",
   "metadata": {},
   "outputs": [
    {
     "name": "stdout",
     "output_type": "stream",
     "text": [
      "Woof\n"
     ]
    }
   ],
   "source": [
    "class MyAnimal:\n",
    "    def make_sound(self):\n",
    "        print(\"Woof\")\n",
    "\n",
    "my_dog = MyAnimal()\n",
    "my_dog.make_sound()\n"
   ]
  },
  {
   "cell_type": "code",
   "execution_count": 3,
   "id": "f7b650af",
   "metadata": {},
   "outputs": [
    {
     "name": "stdout",
     "output_type": "stream",
     "text": [
      "Woof Timmy\n"
     ]
    }
   ],
   "source": [
    "class MyAnimal:\n",
    "    def make_sound(self, name):\n",
    "        print('Woof', name)\n",
    "\n",
    "my_dog = MyAnimal()\n",
    "my_dog.make_sound('Timmy')"
   ]
  }
 ],
 "metadata": {
  "kernelspec": {
   "display_name": "Python 3",
   "language": "python",
   "name": "python3"
  },
  "language_info": {
   "codemirror_mode": {
    "name": "ipython",
    "version": 3
   },
   "file_extension": ".py",
   "mimetype": "text/x-python",
   "name": "python",
   "nbconvert_exporter": "python",
   "pygments_lexer": "ipython3",
   "version": "3.12.1"
  }
 },
 "nbformat": 4,
 "nbformat_minor": 5
}
